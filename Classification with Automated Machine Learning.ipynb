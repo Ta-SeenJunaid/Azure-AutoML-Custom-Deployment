{
  "cells": [
    {
      "cell_type": "markdown",
      "source": [
        "This code is copied from https://github.com/MicrosoftLearning/mslearn-azure-ml/blob/main/Labs/06/Classification%20with%20Automated%20Machine%20Learning.ipynb \n"
      ],
      "metadata": {
        "nteract": {
          "transient": {
            "deleting": false
          }
        }
      }
    },
    {
      "cell_type": "markdown",
      "source": [
        "# **Change the compute instance/cluster name according to your setup**"
      ],
      "metadata": {
        "nteract": {
          "transient": {
            "deleting": false
          }
        }
      }
    },
    {
      "cell_type": "markdown",
      "source": [
        "# Train a classification model with Automated Machine Learning"
      ],
      "metadata": {
        "nteract": {
          "transient": {
            "deleting": false
          }
        }
      }
    },
    {
      "cell_type": "markdown",
      "source": [
        "## Environment"
      ],
      "metadata": {
        "nteract": {
          "transient": {
            "deleting": false
          }
        }
      }
    },
    {
      "cell_type": "markdown",
      "source": [
        "Please select the appropriate kernel from Top right corner.\n",
        "Here we use Python 3.8 Pytourch and Tensorflow kernel"
      ],
      "metadata": {
        "nteract": {
          "transient": {
            "deleting": false
          }
        }
      }
    },
    {
      "cell_type": "code",
      "source": [
        "!conda list"
      ],
      "outputs": [
        {
          "output_type": "stream",
          "name": "stdout",
          "text": "# packages in environment at /anaconda:\r\n#\r\n# Name                    Version                   Build  Channel\r\n_libgcc_mutex             0.1                        main  \r\n_openmp_mutex             5.1                       1_gnu  \r\napplicationinsights       0.11.10                  pypi_0    pypi\r\nboltons                   23.0.0          py310h06a4308_0  \r\nbrotlipy                  0.7.0           py310h7f8727e_1002  \r\nbzip2                     1.0.8                h7b6447c_0  \r\nca-certificates           2023.5.7             hbcca054_0    conda-forge\r\ncertifi                   2023.5.7           pyhd8ed1ab_0    conda-forge\r\ncffi                      1.15.1          py310h5eee18b_3  \r\ncharset-normalizer        2.0.4              pyhd3eb1b0_0  \r\nconda                     23.5.0          py310hff52083_1    conda-forge\r\nconda-content-trust       0.1.3           py310h06a4308_0  \r\nconda-package-handling    2.1.0           py310h06a4308_0  \r\nconda-package-streaming   0.8.0           py310h06a4308_0  \r\ncryptography              39.0.1          py310h9ce1e76_2  \r\nidna                      3.4             py310h06a4308_0  \r\njsonpatch                 1.32               pyhd3eb1b0_0  \r\njsonpointer               2.1                pyhd3eb1b0_0  \r\nld_impl_linux-64          2.38                 h1181459_1  \r\nlibffi                    3.4.4                h6a678d5_0  \r\nlibgcc-ng                 11.2.0               h1234567_1  \r\nlibgomp                   11.2.0               h1234567_1  \r\nlibstdcxx-ng              11.2.0               h1234567_1  \r\nlibuuid                   1.41.5               h5eee18b_0  \r\nncurses                   6.4                  h6a678d5_0  \r\nopenssl                   3.0.9                h7f8727e_0  \r\npackaging                 23.0            py310h06a4308_0  \r\npip                       23.1.2             pyhd8ed1ab_0    conda-forge\r\npluggy                    1.0.0           py310h06a4308_1  \r\npsutil                    5.9.5                    pypi_0    pypi\r\npycosat                   0.6.4           py310h5eee18b_0  \r\npycparser                 2.21               pyhd3eb1b0_0  \r\npyopenssl                 23.0.0          py310h06a4308_0  \r\npysocks                   1.7.1           py310h06a4308_0  \r\npython                    3.10.11              h955ad1f_3  \r\npython_abi                3.10                    2_cp310    conda-forge\r\nreadline                  8.2                  h5eee18b_0  \r\nrequests                  2.29.0          py310h06a4308_0  \r\nruamel.yaml               0.17.21         py310h5eee18b_0  \r\nruamel.yaml.clib          0.2.6           py310h5eee18b_1  \r\nsetuptools                65.6.3          py310h06a4308_0  \r\nsix                       1.16.0             pyhd3eb1b0_1  \r\nsqlite                    3.41.2               h5eee18b_0  \r\ntk                        8.6.12               h1ccaba5_0  \r\ntoolz                     0.12.0          py310h06a4308_0  \r\ntqdm                      4.65.0          py310h2f386ee_0  \r\ntzdata                    2023c                h04d1e81_0  \r\nurllib3                   1.26.16         py310h06a4308_0  \r\nwheel                     0.38.4          py310h06a4308_0  \r\nxz                        5.4.2                h5eee18b_0  \r\nzlib                      1.2.13               h5eee18b_0  \r\nzstandard                 0.19.0          py310h5eee18b_0  \r\n"
        }
      ],
      "execution_count": 1,
      "metadata": {
        "gather": {
          "logged": 1714233650844
        }
      }
    },
    {
      "cell_type": "markdown",
      "source": [
        "Before you start\n",
        "You'll need the latest version of the azureml-ai-ml package to run the code in this notebook. Run the cell below to verify that it is installed.\n",
        "\n",
        "```\n",
        "pip install azure-ai-ml\n",
        "\n",
        "```\n",
        "Note: If the azure-ai-ml package is not installed, run \n",
        "```\n",
        "pip install azure-ai-ml \n",
        "\n",
        "```\n",
        "from terminal to install it.\n",
        "\n",
        "Please activate appropriate conda environment into command line likewise\n",
        "```\n",
        "conda activate azureml_py38_PT_TF\n",
        "```\n",
        "\n",
        "You can also install it from this notebook"
      ],
      "metadata": {
        "nteract": {
          "transient": {
            "deleting": false
          }
        }
      }
    },
    {
      "cell_type": "code",
      "source": [
        "pip install azure-ai-ml"
      ],
      "outputs": [
        {
          "output_type": "stream",
          "name": "stdout",
          "text": "Requirement already satisfied: azure-ai-ml in /anaconda/envs/azureml_py38_PT_TF/lib/python3.8/site-packages (1.15.0)\nRequirement already satisfied: colorama<0.5.0 in /anaconda/envs/azureml_py38_PT_TF/lib/python3.8/site-packages (from azure-ai-ml) (0.4.6)\nRequirement already satisfied: azure-common<2.0.0,>=1.1 in /anaconda/envs/azureml_py38_PT_TF/lib/python3.8/site-packages (from azure-ai-ml) (1.1.28)\nRequirement already satisfied: azure-storage-file-datalake<13.0.0 in /anaconda/envs/azureml_py38_PT_TF/lib/python3.8/site-packages (from azure-ai-ml) (12.14.0)\nRequirement already satisfied: azure-mgmt-core<2.0.0,>=1.3.0 in /anaconda/envs/azureml_py38_PT_TF/lib/python3.8/site-packages (from azure-ai-ml) (1.4.0)\nRequirement already satisfied: msrest>=0.6.18 in /anaconda/envs/azureml_py38_PT_TF/lib/python3.8/site-packages (from azure-ai-ml) (0.7.1)\nRequirement already satisfied: pyyaml<7.0.0,>=5.1.0 in /anaconda/envs/azureml_py38_PT_TF/lib/python3.8/site-packages (from azure-ai-ml) (6.0)\nRequirement already satisfied: opencensus-ext-azure<2.0.0 in /anaconda/envs/azureml_py38_PT_TF/lib/python3.8/site-packages (from azure-ai-ml) (1.1.9)\nRequirement already satisfied: isodate in /anaconda/envs/azureml_py38_PT_TF/lib/python3.8/site-packages (from azure-ai-ml) (0.6.1)\nRequirement already satisfied: jsonschema<5.0.0,>=4.0.0 in /anaconda/envs/azureml_py38_PT_TF/lib/python3.8/site-packages (from azure-ai-ml) (4.17.3)\nRequirement already satisfied: opencensus-ext-logging<=0.1.1 in /anaconda/envs/azureml_py38_PT_TF/lib/python3.8/site-packages (from azure-ai-ml) (0.1.1)\nRequirement already satisfied: pydash>=6.0.0 in /anaconda/envs/azureml_py38_PT_TF/lib/python3.8/site-packages (from azure-ai-ml) (8.0.1)\nRequirement already satisfied: typing-extensions<5.0.0 in /anaconda/envs/azureml_py38_PT_TF/lib/python3.8/site-packages (from azure-ai-ml) (4.6.3)\nRequirement already satisfied: strictyaml<2.0.0 in /anaconda/envs/azureml_py38_PT_TF/lib/python3.8/site-packages (from azure-ai-ml) (1.7.3)\nRequirement already satisfied: azure-storage-file-share<13.0.0 in /anaconda/envs/azureml_py38_PT_TF/lib/python3.8/site-packages (from azure-ai-ml) (12.15.0)\nRequirement already satisfied: tqdm<5.0.0 in /anaconda/envs/azureml_py38_PT_TF/lib/python3.8/site-packages (from azure-ai-ml) (4.65.0)\nRequirement already satisfied: azure-storage-blob<13.0.0,>=12.10.0 in /anaconda/envs/azureml_py38_PT_TF/lib/python3.8/site-packages (from azure-ai-ml) (12.19.1)\nRequirement already satisfied: pyjwt<3.0.0 in /anaconda/envs/azureml_py38_PT_TF/lib/python3.8/site-packages (from azure-ai-ml) (2.7.0)\nRequirement already satisfied: marshmallow<4.0.0,>=3.5 in /anaconda/envs/azureml_py38_PT_TF/lib/python3.8/site-packages (from azure-ai-ml) (3.21.1)\nRequirement already satisfied: azure-core<2.0.0,>=1.23.0 in /anaconda/envs/azureml_py38_PT_TF/lib/python3.8/site-packages (from azure-ai-ml) (1.30.1)\nRequirement already satisfied: requests>=2.21.0 in /anaconda/envs/azureml_py38_PT_TF/lib/python3.8/site-packages (from azure-core<2.0.0,>=1.23.0->azure-ai-ml) (2.31.0)\nRequirement already satisfied: six>=1.11.0 in /anaconda/envs/azureml_py38_PT_TF/lib/python3.8/site-packages (from azure-core<2.0.0,>=1.23.0->azure-ai-ml) (1.16.0)\nRequirement already satisfied: cryptography>=2.1.4 in /anaconda/envs/azureml_py38_PT_TF/lib/python3.8/site-packages (from azure-storage-blob<13.0.0,>=12.10.0->azure-ai-ml) (41.0.1)\nRequirement already satisfied: pyrsistent!=0.17.0,!=0.17.1,!=0.17.2,>=0.14.0 in /anaconda/envs/azureml_py38_PT_TF/lib/python3.8/site-packages (from jsonschema<5.0.0,>=4.0.0->azure-ai-ml) (0.19.3)\nRequirement already satisfied: attrs>=17.4.0 in /anaconda/envs/azureml_py38_PT_TF/lib/python3.8/site-packages (from jsonschema<5.0.0,>=4.0.0->azure-ai-ml) (23.1.0)\nRequirement already satisfied: importlib-resources>=1.4.0 in /anaconda/envs/azureml_py38_PT_TF/lib/python3.8/site-packages (from jsonschema<5.0.0,>=4.0.0->azure-ai-ml) (5.12.0)\nRequirement already satisfied: pkgutil-resolve-name>=1.3.10 in /anaconda/envs/azureml_py38_PT_TF/lib/python3.8/site-packages (from jsonschema<5.0.0,>=4.0.0->azure-ai-ml) (1.3.10)\nRequirement already satisfied: packaging>=17.0 in /anaconda/envs/azureml_py38_PT_TF/lib/python3.8/site-packages (from marshmallow<4.0.0,>=3.5->azure-ai-ml) (23.1)\nRequirement already satisfied: requests-oauthlib>=0.5.0 in /anaconda/envs/azureml_py38_PT_TF/lib/python3.8/site-packages (from msrest>=0.6.18->azure-ai-ml) (1.3.1)\nRequirement already satisfied: certifi>=2017.4.17 in /anaconda/envs/azureml_py38_PT_TF/lib/python3.8/site-packages (from msrest>=0.6.18->azure-ai-ml) (2023.5.7)\nRequirement already satisfied: psutil>=5.6.3 in /anaconda/envs/azureml_py38_PT_TF/lib/python3.8/site-packages (from opencensus-ext-azure<2.0.0->azure-ai-ml) (5.9.5)\nRequirement already satisfied: opencensus<1.0.0,>=0.11.2 in /anaconda/envs/azureml_py38_PT_TF/lib/python3.8/site-packages (from opencensus-ext-azure<2.0.0->azure-ai-ml) (0.11.2)\nRequirement already satisfied: azure-identity<2.0.0,>=1.5.0 in /anaconda/envs/azureml_py38_PT_TF/lib/python3.8/site-packages (from opencensus-ext-azure<2.0.0->azure-ai-ml) (1.13.0)\nRequirement already satisfied: python-dateutil>=2.6.0 in /anaconda/envs/azureml_py38_PT_TF/lib/python3.8/site-packages (from strictyaml<2.0.0->azure-ai-ml) (2.8.2)\nRequirement already satisfied: msal-extensions<2.0.0,>=0.3.0 in /anaconda/envs/azureml_py38_PT_TF/lib/python3.8/site-packages (from azure-identity<2.0.0,>=1.5.0->opencensus-ext-azure<2.0.0->azure-ai-ml) (1.0.0)\nRequirement already satisfied: msal<2.0.0,>=1.20.0 in /anaconda/envs/azureml_py38_PT_TF/lib/python3.8/site-packages (from azure-identity<2.0.0,>=1.5.0->opencensus-ext-azure<2.0.0->azure-ai-ml) (1.22.0)\nRequirement already satisfied: cffi>=1.12 in /anaconda/envs/azureml_py38_PT_TF/lib/python3.8/site-packages (from cryptography>=2.1.4->azure-storage-blob<13.0.0,>=12.10.0->azure-ai-ml) (1.15.1)\nRequirement already satisfied: zipp>=3.1.0 in /anaconda/envs/azureml_py38_PT_TF/lib/python3.8/site-packages (from importlib-resources>=1.4.0->jsonschema<5.0.0,>=4.0.0->azure-ai-ml) (3.15.0)\nRequirement already satisfied: google-api-core<3.0.0,>=1.0.0 in /anaconda/envs/azureml_py38_PT_TF/lib/python3.8/site-packages (from opencensus<1.0.0,>=0.11.2->opencensus-ext-azure<2.0.0->azure-ai-ml) (2.11.1)\nRequirement already satisfied: opencensus-context>=0.1.3 in /anaconda/envs/azureml_py38_PT_TF/lib/python3.8/site-packages (from opencensus<1.0.0,>=0.11.2->opencensus-ext-azure<2.0.0->azure-ai-ml) (0.1.3)\nRequirement already satisfied: charset-normalizer<4,>=2 in /anaconda/envs/azureml_py38_PT_TF/lib/python3.8/site-packages (from requests>=2.21.0->azure-core<2.0.0,>=1.23.0->azure-ai-ml) (3.1.0)\nRequirement already satisfied: urllib3<3,>=1.21.1 in /anaconda/envs/azureml_py38_PT_TF/lib/python3.8/site-packages (from requests>=2.21.0->azure-core<2.0.0,>=1.23.0->azure-ai-ml) (1.26.16)\nRequirement already satisfied: idna<4,>=2.5 in /anaconda/envs/azureml_py38_PT_TF/lib/python3.8/site-packages (from requests>=2.21.0->azure-core<2.0.0,>=1.23.0->azure-ai-ml) (3.4)\nRequirement already satisfied: oauthlib>=3.0.0 in /anaconda/envs/azureml_py38_PT_TF/lib/python3.8/site-packages (from requests-oauthlib>=0.5.0->msrest>=0.6.18->azure-ai-ml) (3.2.2)\nRequirement already satisfied: pycparser in /anaconda/envs/azureml_py38_PT_TF/lib/python3.8/site-packages (from cffi>=1.12->cryptography>=2.1.4->azure-storage-blob<13.0.0,>=12.10.0->azure-ai-ml) (2.21)\nRequirement already satisfied: protobuf!=3.20.0,!=3.20.1,!=4.21.0,!=4.21.1,!=4.21.2,!=4.21.3,!=4.21.4,!=4.21.5,<5.0.0.dev0,>=3.19.5 in /anaconda/envs/azureml_py38_PT_TF/lib/python3.8/site-packages (from google-api-core<3.0.0,>=1.0.0->opencensus<1.0.0,>=0.11.2->opencensus-ext-azure<2.0.0->azure-ai-ml) (3.19.6)\nRequirement already satisfied: google-auth<3.0.dev0,>=2.14.1 in /anaconda/envs/azureml_py38_PT_TF/lib/python3.8/site-packages (from google-api-core<3.0.0,>=1.0.0->opencensus<1.0.0,>=0.11.2->opencensus-ext-azure<2.0.0->azure-ai-ml) (2.20.0)\nRequirement already satisfied: googleapis-common-protos<2.0.dev0,>=1.56.2 in /anaconda/envs/azureml_py38_PT_TF/lib/python3.8/site-packages (from google-api-core<3.0.0,>=1.0.0->opencensus<1.0.0,>=0.11.2->opencensus-ext-azure<2.0.0->azure-ai-ml) (1.59.1)\nRequirement already satisfied: portalocker<3,>=1.0 in /anaconda/envs/azureml_py38_PT_TF/lib/python3.8/site-packages (from msal-extensions<2.0.0,>=0.3.0->azure-identity<2.0.0,>=1.5.0->opencensus-ext-azure<2.0.0->azure-ai-ml) (2.7.0)\nRequirement already satisfied: cachetools<6.0,>=2.0.0 in /anaconda/envs/azureml_py38_PT_TF/lib/python3.8/site-packages (from google-auth<3.0.dev0,>=2.14.1->google-api-core<3.0.0,>=1.0.0->opencensus<1.0.0,>=0.11.2->opencensus-ext-azure<2.0.0->azure-ai-ml) (5.3.1)\nRequirement already satisfied: rsa<5,>=3.1.4 in /anaconda/envs/azureml_py38_PT_TF/lib/python3.8/site-packages (from google-auth<3.0.dev0,>=2.14.1->google-api-core<3.0.0,>=1.0.0->opencensus<1.0.0,>=0.11.2->opencensus-ext-azure<2.0.0->azure-ai-ml) (4.9)\nRequirement already satisfied: pyasn1-modules>=0.2.1 in /anaconda/envs/azureml_py38_PT_TF/lib/python3.8/site-packages (from google-auth<3.0.dev0,>=2.14.1->google-api-core<3.0.0,>=1.0.0->opencensus<1.0.0,>=0.11.2->opencensus-ext-azure<2.0.0->azure-ai-ml) (0.3.0)\nRequirement already satisfied: pyasn1<0.6.0,>=0.4.6 in /anaconda/envs/azureml_py38_PT_TF/lib/python3.8/site-packages (from pyasn1-modules>=0.2.1->google-auth<3.0.dev0,>=2.14.1->google-api-core<3.0.0,>=1.0.0->opencensus<1.0.0,>=0.11.2->opencensus-ext-azure<2.0.0->azure-ai-ml) (0.5.0)\nNote: you may need to restart the kernel to use updated packages.\n"
        }
      ],
      "execution_count": 13,
      "metadata": {
        "jupyter": {
          "source_hidden": false,
          "outputs_hidden": false
        },
        "nteract": {
          "transient": {
            "deleting": false
          }
        },
        "gather": {
          "logged": 1714238189591
        }
      }
    },
    {
      "cell_type": "code",
      "source": [
        "pip show azure-ai-ml"
      ],
      "outputs": [
        {
          "output_type": "stream",
          "name": "stdout",
          "text": "Name: azure-ai-ml\r\nVersion: 1.15.0\r\nSummary: Microsoft Azure Machine Learning Client Library for Python\r\nHome-page: https://github.com/Azure/azure-sdk-for-python\r\nAuthor: Microsoft Corporation\r\nAuthor-email: azuresdkengsysadmins@microsoft.com\r\nLicense: MIT License\r\nLocation: /anaconda/envs/azureml_py38_PT_TF/lib/python3.8/site-packages\r\nRequires: azure-common, azure-core, azure-mgmt-core, azure-storage-blob, azure-storage-file-datalake, azure-storage-file-share, colorama, isodate, jsonschema, marshmallow, msrest, opencensus-ext-azure, opencensus-ext-logging, pydash, pyjwt, pyyaml, strictyaml, tqdm, typing-extensions\r\nRequired-by: \r\nNote: you may need to restart the kernel to use updated packages.\n"
        }
      ],
      "execution_count": 2,
      "metadata": {
        "jupyter": {
          "source_hidden": false,
          "outputs_hidden": false
        },
        "nteract": {
          "transient": {
            "deleting": false
          }
        },
        "gather": {
          "logged": 1714236861652
        }
      }
    },
    {
      "cell_type": "code",
      "source": [
        "pip install mltable"
      ],
      "outputs": [
        {
          "output_type": "stream",
          "name": "stdout",
          "text": "Requirement already satisfied: mltable in /anaconda/envs/azureml_py38_PT_TF/lib/python3.8/site-packages (1.6.1)\nRequirement already satisfied: msrest>=0.6.18 in /anaconda/envs/azureml_py38_PT_TF/lib/python3.8/site-packages (from mltable) (0.7.1)\nRequirement already satisfied: python-dateutil<3.0.0,>=2.7.3 in /anaconda/envs/azureml_py38_PT_TF/lib/python3.8/site-packages (from mltable) (2.8.2)\nRequirement already satisfied: cryptography!=1.9,!=2.0.*,!=2.1.*,!=2.2.* in /anaconda/envs/azureml_py38_PT_TF/lib/python3.8/site-packages (from mltable) (41.0.1)\nRequirement already satisfied: azure-core!=1.22.0,<2.0.0,>=1.8.0 in /anaconda/envs/azureml_py38_PT_TF/lib/python3.8/site-packages (from mltable) (1.30.1)\nRequirement already satisfied: PyJWT<3.0.0 in /anaconda/envs/azureml_py38_PT_TF/lib/python3.8/site-packages (from mltable) (2.7.0)\nRequirement already satisfied: pyyaml<7.0.0,>=5.1.0 in /anaconda/envs/azureml_py38_PT_TF/lib/python3.8/site-packages (from mltable) (6.0)\nRequirement already satisfied: azureml-dataprep[parquet]<5.2.0a,>=5.1.0a in /anaconda/envs/azureml_py38_PT_TF/lib/python3.8/site-packages (from mltable) (5.1.6)\nRequirement already satisfied: pytz in /anaconda/envs/azureml_py38_PT_TF/lib/python3.8/site-packages (from mltable) (2023.3)\nRequirement already satisfied: azure-mgmt-core<2.0.0,>=1.3.0 in /anaconda/envs/azureml_py38_PT_TF/lib/python3.8/site-packages (from mltable) (1.4.0)\nRequirement already satisfied: jsonschema<5.0.0,>=4.0.0 in /anaconda/envs/azureml_py38_PT_TF/lib/python3.8/site-packages (from mltable) (4.17.3)\nRequirement already satisfied: requests>=2.21.0 in /anaconda/envs/azureml_py38_PT_TF/lib/python3.8/site-packages (from azure-core!=1.22.0,<2.0.0,>=1.8.0->mltable) (2.31.0)\nRequirement already satisfied: six>=1.11.0 in /anaconda/envs/azureml_py38_PT_TF/lib/python3.8/site-packages (from azure-core!=1.22.0,<2.0.0,>=1.8.0->mltable) (1.16.0)\nRequirement already satisfied: typing-extensions>=4.6.0 in /anaconda/envs/azureml_py38_PT_TF/lib/python3.8/site-packages (from azure-core!=1.22.0,<2.0.0,>=1.8.0->mltable) (4.6.3)\nRequirement already satisfied: azureml-dataprep-native<42.0.0,>=41.0.0 in /anaconda/envs/azureml_py38_PT_TF/lib/python3.8/site-packages (from azureml-dataprep[parquet]<5.2.0a,>=5.1.0a->mltable) (41.0.0)\nRequirement already satisfied: azureml-dataprep-rslex~=2.22.2dev0 in /anaconda/envs/azureml_py38_PT_TF/lib/python3.8/site-packages (from azureml-dataprep[parquet]<5.2.0a,>=5.1.0a->mltable) (2.22.2)\nRequirement already satisfied: cloudpickle<3.0.0,>=1.1.0 in /anaconda/envs/azureml_py38_PT_TF/lib/python3.8/site-packages (from azureml-dataprep[parquet]<5.2.0a,>=5.1.0a->mltable) (2.2.1)\nRequirement already satisfied: azure-identity>=1.7.0 in /anaconda/envs/azureml_py38_PT_TF/lib/python3.8/site-packages (from azureml-dataprep[parquet]<5.2.0a,>=5.1.0a->mltable) (1.13.0)\nRequirement already satisfied: pyarrow>=0.17.0 in /anaconda/envs/azureml_py38_PT_TF/lib/python3.8/site-packages (from azureml-dataprep[parquet]<5.2.0a,>=5.1.0a->mltable) (9.0.0)\nRequirement already satisfied: cffi>=1.12 in /anaconda/envs/azureml_py38_PT_TF/lib/python3.8/site-packages (from cryptography!=1.9,!=2.0.*,!=2.1.*,!=2.2.*->mltable) (1.15.1)\nRequirement already satisfied: pyrsistent!=0.17.0,!=0.17.1,!=0.17.2,>=0.14.0 in /anaconda/envs/azureml_py38_PT_TF/lib/python3.8/site-packages (from jsonschema<5.0.0,>=4.0.0->mltable) (0.19.3)\nRequirement already satisfied: attrs>=17.4.0 in /anaconda/envs/azureml_py38_PT_TF/lib/python3.8/site-packages (from jsonschema<5.0.0,>=4.0.0->mltable) (23.1.0)\nRequirement already satisfied: pkgutil-resolve-name>=1.3.10 in /anaconda/envs/azureml_py38_PT_TF/lib/python3.8/site-packages (from jsonschema<5.0.0,>=4.0.0->mltable) (1.3.10)\nRequirement already satisfied: importlib-resources>=1.4.0 in /anaconda/envs/azureml_py38_PT_TF/lib/python3.8/site-packages (from jsonschema<5.0.0,>=4.0.0->mltable) (5.12.0)\nRequirement already satisfied: certifi>=2017.4.17 in /anaconda/envs/azureml_py38_PT_TF/lib/python3.8/site-packages (from msrest>=0.6.18->mltable) (2023.5.7)\nRequirement already satisfied: isodate>=0.6.0 in /anaconda/envs/azureml_py38_PT_TF/lib/python3.8/site-packages (from msrest>=0.6.18->mltable) (0.6.1)\nRequirement already satisfied: requests-oauthlib>=0.5.0 in /anaconda/envs/azureml_py38_PT_TF/lib/python3.8/site-packages (from msrest>=0.6.18->mltable) (1.3.1)\nRequirement already satisfied: msal-extensions<2.0.0,>=0.3.0 in /anaconda/envs/azureml_py38_PT_TF/lib/python3.8/site-packages (from azure-identity>=1.7.0->azureml-dataprep[parquet]<5.2.0a,>=5.1.0a->mltable) (1.0.0)\nRequirement already satisfied: msal<2.0.0,>=1.20.0 in /anaconda/envs/azureml_py38_PT_TF/lib/python3.8/site-packages (from azure-identity>=1.7.0->azureml-dataprep[parquet]<5.2.0a,>=5.1.0a->mltable) (1.22.0)\nRequirement already satisfied: pycparser in /anaconda/envs/azureml_py38_PT_TF/lib/python3.8/site-packages (from cffi>=1.12->cryptography!=1.9,!=2.0.*,!=2.1.*,!=2.2.*->mltable) (2.21)\nRequirement already satisfied: zipp>=3.1.0 in /anaconda/envs/azureml_py38_PT_TF/lib/python3.8/site-packages (from importlib-resources>=1.4.0->jsonschema<5.0.0,>=4.0.0->mltable) (3.15.0)\nRequirement already satisfied: numpy>=1.16.6 in /anaconda/envs/azureml_py38_PT_TF/lib/python3.8/site-packages (from pyarrow>=0.17.0->azureml-dataprep[parquet]<5.2.0a,>=5.1.0a->mltable) (1.23.5)\nRequirement already satisfied: charset-normalizer<4,>=2 in /anaconda/envs/azureml_py38_PT_TF/lib/python3.8/site-packages (from requests>=2.21.0->azure-core!=1.22.0,<2.0.0,>=1.8.0->mltable) (3.1.0)\nRequirement already satisfied: urllib3<3,>=1.21.1 in /anaconda/envs/azureml_py38_PT_TF/lib/python3.8/site-packages (from requests>=2.21.0->azure-core!=1.22.0,<2.0.0,>=1.8.0->mltable) (1.26.16)\nRequirement already satisfied: idna<4,>=2.5 in /anaconda/envs/azureml_py38_PT_TF/lib/python3.8/site-packages (from requests>=2.21.0->azure-core!=1.22.0,<2.0.0,>=1.8.0->mltable) (3.4)\nRequirement already satisfied: oauthlib>=3.0.0 in /anaconda/envs/azureml_py38_PT_TF/lib/python3.8/site-packages (from requests-oauthlib>=0.5.0->msrest>=0.6.18->mltable) (3.2.2)\nRequirement already satisfied: portalocker<3,>=1.0 in /anaconda/envs/azureml_py38_PT_TF/lib/python3.8/site-packages (from msal-extensions<2.0.0,>=0.3.0->azure-identity>=1.7.0->azureml-dataprep[parquet]<5.2.0a,>=5.1.0a->mltable) (2.7.0)\nNote: you may need to restart the kernel to use updated packages.\n"
        }
      ],
      "execution_count": 3,
      "metadata": {
        "jupyter": {
          "source_hidden": false,
          "outputs_hidden": false
        },
        "nteract": {
          "transient": {
            "deleting": false
          }
        },
        "gather": {
          "logged": 1714236988175
        }
      }
    },
    {
      "cell_type": "markdown",
      "source": [
        "### Restart the kernel"
      ],
      "metadata": {
        "nteract": {
          "transient": {
            "deleting": false
          }
        }
      }
    },
    {
      "cell_type": "code",
      "source": [
        "!conda list"
      ],
      "outputs": [
        {
          "output_type": "stream",
          "name": "stdout",
          "text": "# packages in environment at /anaconda:\r\n#\r\n# Name                    Version                   Build  Channel\r\n_libgcc_mutex             0.1                        main  \r\n_openmp_mutex             5.1                       1_gnu  \r\napplicationinsights       0.11.10                  pypi_0    pypi\r\nboltons                   23.0.0          py310h06a4308_0  \r\nbrotlipy                  0.7.0           py310h7f8727e_1002  \r\nbzip2                     1.0.8                h7b6447c_0  \r\nca-certificates           2023.5.7             hbcca054_0    conda-forge\r\ncertifi                   2023.5.7           pyhd8ed1ab_0    conda-forge\r\ncffi                      1.15.1          py310h5eee18b_3  \r\ncharset-normalizer        2.0.4              pyhd3eb1b0_0  \r\nconda                     23.5.0          py310hff52083_1    conda-forge\r\nconda-content-trust       0.1.3           py310h06a4308_0  \r\nconda-package-handling    2.1.0           py310h06a4308_0  \r\nconda-package-streaming   0.8.0           py310h06a4308_0  \r\ncryptography              39.0.1          py310h9ce1e76_2  \r\nidna                      3.4             py310h06a4308_0  \r\njsonpatch                 1.32               pyhd3eb1b0_0  \r\njsonpointer               2.1                pyhd3eb1b0_0  \r\nld_impl_linux-64          2.38                 h1181459_1  \r\nlibffi                    3.4.4                h6a678d5_0  \r\nlibgcc-ng                 11.2.0               h1234567_1  \r\nlibgomp                   11.2.0               h1234567_1  \r\nlibstdcxx-ng              11.2.0               h1234567_1  \r\nlibuuid                   1.41.5               h5eee18b_0  \r\nncurses                   6.4                  h6a678d5_0  \r\nopenssl                   3.0.9                h7f8727e_0  \r\npackaging                 23.0            py310h06a4308_0  \r\npip                       23.1.2             pyhd8ed1ab_0    conda-forge\r\npluggy                    1.0.0           py310h06a4308_1  \r\npsutil                    5.9.5                    pypi_0    pypi\r\npycosat                   0.6.4           py310h5eee18b_0  \r\npycparser                 2.21               pyhd3eb1b0_0  \r\npyopenssl                 23.0.0          py310h06a4308_0  \r\npysocks                   1.7.1           py310h06a4308_0  \r\npython                    3.10.11              h955ad1f_3  \r\npython_abi                3.10                    2_cp310    conda-forge\r\nreadline                  8.2                  h5eee18b_0  \r\nrequests                  2.29.0          py310h06a4308_0  \r\nruamel.yaml               0.17.21         py310h5eee18b_0  \r\nruamel.yaml.clib          0.2.6           py310h5eee18b_1  \r\nsetuptools                65.6.3          py310h06a4308_0  \r\nsix                       1.16.0             pyhd3eb1b0_1  \r\nsqlite                    3.41.2               h5eee18b_0  \r\ntk                        8.6.12               h1ccaba5_0  \r\ntoolz                     0.12.0          py310h06a4308_0  \r\ntqdm                      4.65.0          py310h2f386ee_0  \r\ntzdata                    2023c                h04d1e81_0  \r\nurllib3                   1.26.16         py310h06a4308_0  \r\nwheel                     0.38.4          py310h06a4308_0  \r\nxz                        5.4.2                h5eee18b_0  \r\nzlib                      1.2.13               h5eee18b_0  \r\nzstandard                 0.19.0          py310h5eee18b_0  \r\n"
        }
      ],
      "execution_count": 1,
      "metadata": {
        "jupyter": {
          "source_hidden": false,
          "outputs_hidden": false
        },
        "nteract": {
          "transient": {
            "deleting": false
          }
        }
      }
    },
    {
      "cell_type": "markdown",
      "source": [
        "## Connect to your workspace"
      ],
      "metadata": {
        "nteract": {
          "transient": {
            "deleting": false
          }
        }
      }
    },
    {
      "cell_type": "markdown",
      "source": [
        "With the required SDK packages installed, now you're ready to connect to your workspace.\n",
        "\n",
        "To connect to a workspace, we need identifier parameters - a subscription ID, resource group name, and workspace name. Since you're working with a compute instance, managed by Azure Machine Learning, you can use the default values to connect to the workspace."
      ],
      "metadata": {
        "nteract": {
          "transient": {
            "deleting": false
          }
        }
      }
    },
    {
      "cell_type": "code",
      "source": [
        "from azure.identity import DefaultAzureCredential, InteractiveBrowserCredential\n",
        "from azure.ai.ml import MLClient\n",
        "\n",
        "try:\n",
        "    credential = DefaultAzureCredential()\n",
        "    # Check if given credential can get token successfully.\n",
        "    credential.get_token(\"https://management.azure.com/.default\")\n",
        "except Exception as ex:\n",
        "    # Fall back to InteractiveBrowserCredential in case DefaultAzureCredential not work\n",
        "    credential = InteractiveBrowserCredential()"
      ],
      "outputs": [],
      "execution_count": 2,
      "metadata": {
        "jupyter": {
          "source_hidden": false,
          "outputs_hidden": false
        },
        "nteract": {
          "transient": {
            "deleting": false
          }
        },
        "gather": {
          "logged": 1714237009723
        }
      }
    },
    {
      "cell_type": "code",
      "source": [
        "# Get a handle to workspace\n",
        "ml_client = MLClient.from_config(credential=credential)"
      ],
      "outputs": [
        {
          "output_type": "stream",
          "name": "stderr",
          "text": "Found the config file in: /config.json\n"
        }
      ],
      "execution_count": 3,
      "metadata": {
        "jupyter": {
          "source_hidden": false,
          "outputs_hidden": false
        },
        "nteract": {
          "transient": {
            "deleting": false
          }
        },
        "gather": {
          "logged": 1714237012526
        }
      }
    },
    {
      "cell_type": "markdown",
      "source": [
        "## Prepare data"
      ],
      "metadata": {
        "nteract": {
          "transient": {
            "deleting": false
          }
        }
      }
    },
    {
      "cell_type": "markdown",
      "source": [
        "You don't need to create a training script for automated machine learning, but you do need to load the training data.\n",
        "\n",
        "In this case, you'll use a dataset containing details of diabetes patients.\n",
        "\n",
        "To pass a dataset as an input to an automated machine learning job, the data must be in tabular form and include a target column. For the data to be interpreted as a tabular dataset, the input dataset must be a MLTable."
      ],
      "metadata": {
        "nteract": {
          "transient": {
            "deleting": false
          }
        }
      }
    },
    {
      "cell_type": "code",
      "source": [
        "import pandas as pd\n",
        "\n",
        "# Specify the path to the CSV file\n",
        "csv_file_path = 'data/diabetes.csv'\n",
        "\n",
        "# Read the CSV file into a pandas DataFrame\n",
        "df = pd.read_csv(csv_file_path)"
      ],
      "outputs": [],
      "execution_count": 4,
      "metadata": {
        "jupyter": {
          "source_hidden": false,
          "outputs_hidden": false
        },
        "nteract": {
          "transient": {
            "deleting": false
          }
        },
        "gather": {
          "logged": 1714237019551
        }
      }
    },
    {
      "cell_type": "code",
      "source": [
        "# Display the first few rows of the DataFrame\n",
        "df.head()"
      ],
      "outputs": [
        {
          "output_type": "execute_result",
          "execution_count": 5,
          "data": {
            "text/plain": "   PatientID  Pregnancies  PlasmaGlucose  DiastolicBloodPressure  \\\n0    1354778            0            171                      80   \n1    1147438            8             92                      93   \n2    1640031            7            115                      47   \n3    1883350            9            103                      78   \n4    1424119            1             85                      59   \n\n   TricepsThickness  SerumInsulin        BMI  DiabetesPedigree  Age  Diabetic  \n0                34            23  43.509726          1.213191   21         0  \n1                47            36  21.240576          0.158365   23         0  \n2                52            35  41.511523          0.079019   23         0  \n3                25           304  29.582192          1.282870   43         1  \n4                27            35  42.604536          0.549542   22         0  ",
            "text/html": "<div>\n<style scoped>\n    .dataframe tbody tr th:only-of-type {\n        vertical-align: middle;\n    }\n\n    .dataframe tbody tr th {\n        vertical-align: top;\n    }\n\n    .dataframe thead th {\n        text-align: right;\n    }\n</style>\n<table border=\"1\" class=\"dataframe\">\n  <thead>\n    <tr style=\"text-align: right;\">\n      <th></th>\n      <th>PatientID</th>\n      <th>Pregnancies</th>\n      <th>PlasmaGlucose</th>\n      <th>DiastolicBloodPressure</th>\n      <th>TricepsThickness</th>\n      <th>SerumInsulin</th>\n      <th>BMI</th>\n      <th>DiabetesPedigree</th>\n      <th>Age</th>\n      <th>Diabetic</th>\n    </tr>\n  </thead>\n  <tbody>\n    <tr>\n      <th>0</th>\n      <td>1354778</td>\n      <td>0</td>\n      <td>171</td>\n      <td>80</td>\n      <td>34</td>\n      <td>23</td>\n      <td>43.509726</td>\n      <td>1.213191</td>\n      <td>21</td>\n      <td>0</td>\n    </tr>\n    <tr>\n      <th>1</th>\n      <td>1147438</td>\n      <td>8</td>\n      <td>92</td>\n      <td>93</td>\n      <td>47</td>\n      <td>36</td>\n      <td>21.240576</td>\n      <td>0.158365</td>\n      <td>23</td>\n      <td>0</td>\n    </tr>\n    <tr>\n      <th>2</th>\n      <td>1640031</td>\n      <td>7</td>\n      <td>115</td>\n      <td>47</td>\n      <td>52</td>\n      <td>35</td>\n      <td>41.511523</td>\n      <td>0.079019</td>\n      <td>23</td>\n      <td>0</td>\n    </tr>\n    <tr>\n      <th>3</th>\n      <td>1883350</td>\n      <td>9</td>\n      <td>103</td>\n      <td>78</td>\n      <td>25</td>\n      <td>304</td>\n      <td>29.582192</td>\n      <td>1.282870</td>\n      <td>43</td>\n      <td>1</td>\n    </tr>\n    <tr>\n      <th>4</th>\n      <td>1424119</td>\n      <td>1</td>\n      <td>85</td>\n      <td>59</td>\n      <td>27</td>\n      <td>35</td>\n      <td>42.604536</td>\n      <td>0.549542</td>\n      <td>22</td>\n      <td>0</td>\n    </tr>\n  </tbody>\n</table>\n</div>"
          },
          "metadata": {}
        }
      ],
      "execution_count": 5,
      "metadata": {
        "jupyter": {
          "source_hidden": false,
          "outputs_hidden": false
        },
        "nteract": {
          "transient": {
            "deleting": false
          }
        },
        "gather": {
          "logged": 1714237020396
        }
      }
    },
    {
      "cell_type": "markdown",
      "source": [
        "## MLTable data creation"
      ],
      "metadata": {
        "nteract": {
          "transient": {
            "deleting": false
          }
        }
      }
    },
    {
      "cell_type": "code",
      "source": [
        "import mltable\n",
        "\n",
        "paths = [\n",
        "    {'file': './data/diabetes.csv'}\n",
        "]\n",
        "\n",
        "train_table = mltable.from_delimited_files(paths)\n",
        "train_table.save('./data')\n"
      ],
      "outputs": [
        {
          "output_type": "execute_result",
          "execution_count": 8,
          "data": {
            "text/plain": "paths:\n- file: file:///mnt/batch/tasks/shared/LS_root/mounts/clusters/tj-compute-instance/code/Users/taseen.junaid/Azure-AutoML-Custom-Deployment/data/diabetes.csv\ntransformations:\n- read_delimited:\n    delimiter: ','\n    empty_as_string: false\n    encoding: utf8\n    header: all_files_same_headers\n    include_path_column: false\n    infer_column_types: true\n    partition_size: 20971520\n    path_column: Path\n    support_multi_line: false\ntype: mltable"
          },
          "metadata": {}
        }
      ],
      "execution_count": 8,
      "metadata": {
        "jupyter": {
          "source_hidden": false,
          "outputs_hidden": false
        },
        "nteract": {
          "transient": {
            "deleting": false
          }
        },
        "gather": {
          "logged": 1714237201635
        }
      }
    },
    {
      "cell_type": "markdown",
      "source": [
        "## Data loading"
      ],
      "metadata": {
        "nteract": {
          "transient": {
            "deleting": false
          }
        }
      }
    },
    {
      "cell_type": "code",
      "source": [
        "from azure.ai.ml.constants import AssetTypes\n",
        "from azure.ai.ml import Input\n",
        "\n",
        "# creates a dataset based on the files in the local data folder\n",
        "my_training_data_input = Input(type=AssetTypes.MLTABLE, path=\"./data\")"
      ],
      "outputs": [],
      "execution_count": 9,
      "metadata": {
        "jupyter": {
          "source_hidden": false,
          "outputs_hidden": false
        },
        "nteract": {
          "transient": {
            "deleting": false
          }
        },
        "gather": {
          "logged": 1714237334266
        }
      }
    },
    {
      "cell_type": "markdown",
      "source": [
        "# **Put your compute instance/cluster name**"
      ],
      "metadata": {
        "nteract": {
          "transient": {
            "deleting": false
          }
        }
      }
    },
    {
      "cell_type": "markdown",
      "source": [
        "## Configure automated machine learning job"
      ],
      "metadata": {
        "nteract": {
          "transient": {
            "deleting": false
          }
        }
      }
    },
    {
      "cell_type": "markdown",
      "source": [
        "Now, you're ready to configure the automated machine learning experiment.\n",
        "\n",
        "When you run the code below, it will create an automated machine learning job that:\n",
        "\n",
        "- Uses the compute cluster named tj-compute-cluster\n",
        "- Sets Diabetic as the target column\n",
        "- Sets accuracy as the primary metric\n",
        "- Times out after 60 minutes of total training time\n",
        "- No model will be trained with the LogisticRegression algorithm"
      ],
      "metadata": {
        "nteract": {
          "transient": {
            "deleting": false
          }
        }
      }
    },
    {
      "cell_type": "code",
      "source": [
        "from azure.ai.ml import automl\n",
        "\n",
        "# configure the classification job\n",
        "classification_job = automl.classification(\n",
        "    compute=\"tj-compute-cluster\",\n",
        "    experiment_name=\"auto-ml-class-dev\",\n",
        "    training_data=my_training_data_input,\n",
        "    target_column_name=\"Diabetic\",\n",
        "    primary_metric=\"accuracy\",\n",
        "    n_cross_validations=5,\n",
        "    enable_model_explainability=True\n",
        ")\n",
        "\n",
        "# set the limits (optional)\n",
        "classification_job.set_limits(\n",
        "    timeout_minutes=60, \n",
        "    trial_timeout_minutes=20, \n",
        "    enable_early_termination=True,\n",
        ")\n",
        "\n",
        "# set the training properties (optional)\n",
        "classification_job.set_training(\n",
        "    blocked_training_algorithms=[\"LogisticRegression\"], \n",
        "    enable_onnx_compatible_models=True\n",
        ")\n",
        "     "
      ],
      "outputs": [],
      "execution_count": 10,
      "metadata": {
        "jupyter": {
          "source_hidden": false,
          "outputs_hidden": false
        },
        "nteract": {
          "transient": {
            "deleting": false
          }
        },
        "gather": {
          "logged": 1714237565214
        }
      }
    },
    {
      "cell_type": "markdown",
      "source": [
        "## Run an automated machine learning job"
      ],
      "metadata": {
        "nteract": {
          "transient": {
            "deleting": false
          }
        }
      }
    },
    {
      "cell_type": "markdown",
      "source": [
        "OK, you're ready to go. Let's run the automated machine learning experiment.\n",
        "\n",
        "Note: This may take some time!"
      ],
      "metadata": {
        "nteract": {
          "transient": {
            "deleting": false
          }
        }
      }
    },
    {
      "cell_type": "code",
      "source": [
        "# Submit the AutoML job\n",
        "returned_job = ml_client.jobs.create_or_update(\n",
        "    classification_job\n",
        ")  \n",
        "\n",
        "# submit the job to the backend\n",
        "aml_url = returned_job.studio_url\n",
        "print(\"Monitor your job at\", aml_url)"
      ],
      "outputs": [
        {
          "output_type": "stream",
          "name": "stderr",
          "text": "\r\u001b[32mUploading data (0.52 MBs):   0%|          | 0/518385 [00:00<?, ?it/s]\r\u001b[32mUploading data (0.52 MBs): 100%|██████████| 518385/518385 [00:00<00:00, 14565592.66it/s]\n\u001b[39m\n\n"
        },
        {
          "output_type": "stream",
          "name": "stdout",
          "text": "Monitor your job at https://ml.azure.com/runs/patient_stone_f7q7hjzq2j?wsid=/subscriptions/261f30e1-c860-4df8-9a71-1883dfa4caa8/resourcegroups/ai/workspaces/aai&tid=c435b59a-90d0-4884-9465-b5ad0aba32e2\n"
        }
      ],
      "execution_count": 12,
      "metadata": {
        "jupyter": {
          "source_hidden": false,
          "outputs_hidden": false
        },
        "nteract": {
          "transient": {
            "deleting": false
          }
        },
        "gather": {
          "logged": 1714237661523
        }
      }
    },
    {
      "cell_type": "markdown",
      "source": [
        "While the job is running, you can monitor it in the Studio."
      ],
      "metadata": {
        "nteract": {
          "transient": {
            "deleting": false
          }
        }
      }
    },
    {
      "cell_type": "code",
      "source": [],
      "outputs": [],
      "execution_count": null,
      "metadata": {
        "jupyter": {
          "source_hidden": false,
          "outputs_hidden": false
        },
        "nteract": {
          "transient": {
            "deleting": false
          }
        }
      }
    }
  ],
  "metadata": {
    "kernelspec": {
      "name": "python38-azureml-pt-tf",
      "language": "python",
      "display_name": "Python 3.8 - Pytorch and Tensorflow"
    },
    "language_info": {
      "name": "python",
      "version": "3.8.5",
      "mimetype": "text/x-python",
      "codemirror_mode": {
        "name": "ipython",
        "version": 3
      },
      "pygments_lexer": "ipython3",
      "nbconvert_exporter": "python",
      "file_extension": ".py"
    },
    "microsoft": {
      "ms_spell_check": {
        "ms_spell_check_language": "en"
      },
      "host": {
        "AzureML": {
          "notebookHasBeenCompleted": true
        }
      }
    },
    "kernel_info": {
      "name": "python38-azureml-pt-tf"
    },
    "nteract": {
      "version": "nteract-front-end@1.0.0"
    }
  },
  "nbformat": 4,
  "nbformat_minor": 2
}