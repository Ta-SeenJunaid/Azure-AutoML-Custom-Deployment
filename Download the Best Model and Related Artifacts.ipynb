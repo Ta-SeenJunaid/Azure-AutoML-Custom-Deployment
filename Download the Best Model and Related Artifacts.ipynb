{
  "cells": [
    {
      "cell_type": "markdown",
      "source": [
        "The code is taken from: https://github.com/azure/azureml-examples/blob/main/sdk/python/jobs/automl-standalone-jobs/automl-regression-task-hardware-performance/automl-regression-task-hardware-performance.ipynb "
      ],
      "metadata": {
        "nteract": {
          "transient": {
            "deleting": false
          }
        }
      }
    },
    {
      "cell_type": "markdown",
      "source": [
        "# **Change the job_name name according to your setup**"
      ],
      "metadata": {
        "nteract": {
          "transient": {
            "deleting": false
          }
        }
      }
    },
    {
      "cell_type": "markdown",
      "source": [
        "# Download the Best Model and Related Artifacts"
      ],
      "metadata": {
        "nteract": {
          "transient": {
            "deleting": false
          }
        }
      }
    },
    {
      "cell_type": "markdown",
      "source": [
        "We assume that you are using the same environment that was used in the previous code."
      ],
      "metadata": {
        "nteract": {
          "transient": {
            "deleting": false
          }
        }
      }
    },
    {
      "cell_type": "markdown",
      "source": [
        "## Connect to your workspace"
      ],
      "metadata": {
        "nteract": {
          "transient": {
            "deleting": false
          }
        }
      }
    },
    {
      "cell_type": "code",
      "source": [
        "from azure.identity import DefaultAzureCredential, InteractiveBrowserCredential\n",
        "from azure.ai.ml import MLClient\n",
        "\n",
        "try:\n",
        "    credential = DefaultAzureCredential()\n",
        "    # Check if given credential can get token successfully.\n",
        "    credential.get_token(\"https://management.azure.com/.default\")\n",
        "except Exception as ex:\n",
        "    # Fall back to InteractiveBrowserCredential in case DefaultAzureCredential not work\n",
        "    credential = InteractiveBrowserCredential()"
      ],
      "outputs": [],
      "execution_count": 14,
      "metadata": {
        "gather": {
          "logged": 1714449264346
        }
      }
    },
    {
      "cell_type": "code",
      "source": [
        "# Get a handle to workspace\n",
        "ml_client = MLClient.from_config(credential=credential)"
      ],
      "outputs": [
        {
          "output_type": "stream",
          "name": "stderr",
          "text": "Found the config file in: /config.json\n"
        }
      ],
      "execution_count": 15,
      "metadata": {
        "jupyter": {
          "source_hidden": false,
          "outputs_hidden": false
        },
        "nteract": {
          "transient": {
            "deleting": false
          }
        },
        "gather": {
          "logged": 1714449264476
        }
      }
    },
    {
      "cell_type": "markdown",
      "source": [
        "## Get the best model"
      ],
      "metadata": {
        "nteract": {
          "transient": {
            "deleting": false
          }
        }
      }
    },
    {
      "cell_type": "markdown",
      "source": [
        "Get the Automl parent job"
      ],
      "metadata": {
        "nteract": {
          "transient": {
            "deleting": false
          }
        }
      }
    },
    {
      "cell_type": "code",
      "source": [
        "from mlflow.tracking.client import MlflowClient\n",
        "\n",
        "mlflow_client = MlflowClient()"
      ],
      "outputs": [],
      "execution_count": 16,
      "metadata": {
        "jupyter": {
          "source_hidden": false,
          "outputs_hidden": false
        },
        "nteract": {
          "transient": {
            "deleting": false
          }
        },
        "gather": {
          "logged": 1714449264599
        }
      }
    },
    {
      "cell_type": "markdown",
      "source": [
        "# **Change the job_name name according to your setup**"
      ],
      "metadata": {
        "nteract": {
          "transient": {
            "deleting": false
          }
        }
      }
    },
    {
      "cell_type": "markdown",
      "source": [
        "### You can automated this process too."
      ],
      "metadata": {
        "nteract": {
          "transient": {
            "deleting": false
          }
        }
      }
    },
    {
      "cell_type": "code",
      "source": [
        "# Take the job name from Jobs, their are automated way also\n",
        "job_name = 'patient_stone_f7q7hjzq2j'\n",
        "\n",
        "\n",
        "# Get the parent run\n",
        "mlflow_parent_run = mlflow_client.get_run(job_name)\n",
        "\n",
        "\n",
        "print(\"Parent Run: \")\n",
        "print(mlflow_parent_run)"
      ],
      "outputs": [
        {
          "output_type": "stream",
          "name": "stdout",
          "text": "Parent Run: \n<Run: data=<RunData: metrics={'AUC_macro': 0.9907829151390034,\n 'AUC_micro': 0.9918133000000001,\n 'AUC_weighted': 0.9907829151390034,\n 'accuracy': 0.9559999999999998,\n 'average_precision_score_macro': 0.9888143846430495,\n 'average_precision_score_micro': 0.9918785155939377,\n 'average_precision_score_weighted': 0.9909895133351162,\n 'balanced_accuracy': 0.9489702204208188,\n 'f1_score_macro': 0.9503549395397359,\n 'f1_score_micro': 0.9559999999999998,\n 'f1_score_weighted': 0.9559279562980892,\n 'log_loss': 0.15783529277634573,\n 'matthews_correlation': 0.9008131075598756,\n 'norm_macro_recall': 0.8979404408416375,\n 'precision_score_macro': 0.9518543009366212,\n 'precision_score_micro': 0.9559999999999998,\n 'precision_score_weighted': 0.955947856676608,\n 'recall_score_macro': 0.9489702204208188,\n 'recall_score_micro': 0.9559999999999998,\n 'recall_score_weighted': 0.9559999999999998,\n 'weighted_accuracy': 0.9616123964291521}, params={}, tags={'automl_best_child_run_id': 'patient_stone_f7q7hjzq2j_47',\n 'dynamic_allowlisting_iterations': '<25>;<30>;<35>;<40>;<45>;',\n 'fit_time_000': '0.1116402;0.39129320000000006;0.268726;0.07772379999999998;0.03683;0.018735;0.0771712;0.0412992;0.053084200000000005;0.017946200000000002;0.054823;0.034489799999999994;0.0734408;0.3867584;0.138012;0.16534379999999999;0.7927294;1.7314202;0.1309902;0.1290248;0.038887399999999996;0.3699774;0.0727366;0.043572799999999995;0.2337616;0.0138964;1.5768398;2.254078;1.5633976;0.7642922000000001;0.031459;0.0759692;0.36514579999999996;1.0553154;0.05725960000000001;2.4422006;0.6575656000000001;1.2773956000000002;1.627543;2.1421476000000004;1.7788502000000002;0.9758896;0.9630426;0.8321718;2.0502306;1.2875998000000002;0.09716559999999999;23;26',\n 'iteration_000': '0;1;2;3;4;5;6;7;8;9;10;11;12;13;14;15;16;17;18;19;20;21;22;23;24;25;26;27;28;29;30;31;32;33;34;35;36;37;38;39;40;41;42;43;44;45;46;47;48',\n 'mlflow.rootRunId': 'patient_stone_f7q7hjzq2j',\n 'mlflow.runName': 'patient_stone_f7q7hjzq2j',\n 'mlflow.user': 'Ta-Seen Junaid',\n 'model_explain_best_run_child_id': 'patient_stone_f7q7hjzq2j_47',\n 'model_explain_run': 'best_run',\n 'pipeline_id_000': '5dfac790c5c209f98a1da2dc1c7fb76f0397324f;c7af0367625be6ac5c2fecbfc72ed444cb7a2111;799d2168db11fc19b9e1c6c1df62f8981ad39fe9;44b5d2d23120dfcf96a7dc6389a293d17a966b1b;3735210984ea10097d5c91905cf6300ac278cd89;5304e705d6f401cb07f85bcf0ca59ac1f84dfcf5;294650ec23bc3d067a4972de7ceb12f6e97260fa;79ebb3b8c385e3190e3dd4c1fa28b74730528045;589334a57221e0720a95cf217c065115a7b841d1;5a8eb9d9f67b1dd7e9e4062585daa2417ea78989;35b8e2db3c5f6e714072e1be9f0210fe48426975;797e3e972ad02d947be4c64d2b06b775b6df7a49;3fd2e115482e0c7b92aa3297688aefb6c3aa6fb8;1dfdf370ba770047b14bfa59c40920815defcdab;17f87d449bb43aaf3cdae4b7eb6dd6e7fbdaf343;dc68fbd594530b5d52812dd9b3ffa3d6d8ba625e;2032292dd602836ed754a266c771ac100c4c80dc;fedbb4995d6de479c513576119965d71276f03d1;e478544eb8734c07a1943f5bdf4e6605be6943df;1b9ea9b05e1aba0cfbaa30fae26f336a29920979;3ef9040509da05037cd402691a100d4b3dfeb7c4;8a629c3253eba80dbb72f47024d32f0ad25a75b4;13a209bfd4b2554ade8a6975e6538fc9cf736b47;0271727006650d69e50e6b01d53fa8a788575fd3;96ea65ade80f633bbae5c0f0edbec957955d280b;5c913e9a5ee6088213b51594a3dcc49fd78e2127;04c1507aa326b2ef5d41ce4796b7e91f113b0ae9;e7c78ea70fd379a87f18851b2b24b9c4d85cc441;b12fd2a3db3ffae303ec0fe4b303bf11f60ec7a7;d3812cd4cae6f09e5e02cdc7a9531db57c836045;de43453c09484de7f2c6170d9d8aca0547a93456;e5d1ff6b0d9b0068a5e40d955bd8242979f04974;5a7cc8c7cc69ba69ac36eec99283d6944b182016;6a4b6871738411e17491b1e25e7885ae7c0fc1b0;d5ee8bc7299b999244c19ddf1b3c5f6ca57ee7b9;d4e2676180ae8eecd8e10acb09be2380f214823d;c972922810f18ec9da915440ba32079883b67b9d;675f12e594940ad94b57a39816112f5d65170cfc;d9dbe2ef3edc8070df1c311bfecdc55ee9766b58;a345842ca16c8ff8c762e2197ee6412725365d04;e4e8213b3ff4cdd8aa944deb0d0cf0551ff3b64d;3fb06f0d42207beb64b0ff4bb1265e8c6f4be2e0;68ba4031a08c44e04410456d5431ba436672d474;dab6d8da3f6e01f01e878332cbb8ef90ef38f31e;faa291e5334a95ee4e0788e377670f478c05bf73;49acf61c512f657ae50ebb6e14f9b33300aa52d9;bc475f7ad93cef2d842a280c8f34fb7601acafc0;__AutoML_Ensemble__;__AutoML_Stack_Ensemble__',\n 'predicted_cost_000': '0;0;0.5;0.5;0.5;0.5;0.5;0.5;0.5;0.5;0.5;0.5;0.5;0.5;0.5;0.5;0.5;0.5;0.5;0.5;0.058403038914303367;0.21053053069839922;0.06718005654679984;0.16535742279844565;0.3029791094244999;0.03169226473504082;1.1949083125469973;0.6435121178387548;0.5732258581886658;1.7946375632942377;0.015071356324508985;0.04838903383855058;1.0304813666541432;1.5619245212639505;0.08703911067507257;1.8057324065515605;1.6242294385669522;0.3318346511252577;1.4073227492155835;2.0391350870402167;1.0680440062017686;1.0798051039919765;4.285792319802003;0.36880480933355725;4.150034440154884;0.8937940287982045;0.12082791689819117;0;0',\n 'run_algorithm_000': 'LightGBM;XGBoostClassifier;ExtremeRandomTrees;XGBoostClassifier;LightGBM;LightGBM;XGBoostClassifier;ExtremeRandomTrees;XGBoostClassifier;LightGBM;XGBoostClassifier;SGD;XGBoostClassifier;RandomForest;RandomForest;XGBoostClassifier;RandomForest;RandomForest;XGBoostClassifier;XGBoostClassifier;RandomForest;GradientBoosting;RandomForest;XGBoostClassifier;XGBoostClassifier;LightGBM;XGBoostClassifier;XGBoostClassifier;XGBoostClassifier;XGBoostClassifier;XGBoostClassifier;RandomForest;XGBoostClassifier;XGBoostClassifier;XGBoostClassifier;XGBoostClassifier;XGBoostClassifier;XGBoostClassifier;XGBoostClassifier;XGBoostClassifier;XGBoostClassifier;XGBoostClassifier;XGBoostClassifier;XGBoostClassifier;XGBoostClassifier;XGBoostClassifier;RandomForest;VotingEnsemble;StackEnsemble',\n 'run_preprocessor_000': 'MaxAbsScaler;MaxAbsScaler;MaxAbsScaler;SparseNormalizer;MaxAbsScaler;MaxAbsScaler;StandardScalerWrapper;StandardScalerWrapper;StandardScalerWrapper;SparseNormalizer;StandardScalerWrapper;MaxAbsScaler;StandardScalerWrapper;SparseNormalizer;StandardScalerWrapper;StandardScalerWrapper;TruncatedSVDWrapper;TruncatedSVDWrapper;StandardScalerWrapper;SparseNormalizer;StandardScalerWrapper;MaxAbsScaler;SparseNormalizer;SparseNormalizer;SparseNormalizer;StandardScalerWrapper;StandardScalerWrapper;StandardScalerWrapper;StandardScalerWrapper;StandardScalerWrapper;SparseNormalizer;MaxAbsScaler;StandardScalerWrapper;StandardScalerWrapper;StandardScalerWrapper;StandardScalerWrapper;SparseNormalizer;StandardScalerWrapper;StandardScalerWrapper;StandardScalerWrapper;StandardScalerWrapper;StandardScalerWrapper;StandardScalerWrapper;StandardScalerWrapper;StandardScalerWrapper;StandardScalerWrapper;StandardScalerWrapper;;',\n 'score_000': '0.9518000000000001;0.9518000000000001;0.8311;0.8733000000000001;0.9343;0.8733000000000001;0.9419000000000001;0.6693;0.9433999999999999;0.8644000000000001;0.9381;0.8533;0.9346;0.8522000000000001;0.9094;0.9400000000000001;0.8045;0.8455999999999999;0.9489000000000001;0.8833;0.8986000000000001;0.898;0.8374;0.8744;0.9010000000000001;0.8347999999999999;0.9537000000000001;0.9422;0.9502;0.952;0.6656;0.8505;0.9510000000000002;0.9093;0.9052;0.9118;0.9009;0.9517;0.9518000000000001;0.9492;0.9253;0.9517;0.9534;0.9497;0.9269000000000001;0.9517;0.8852;0.9559999999999998;0.9545999999999999',\n 'training_percent_000': '100;100;100;100;100;100;100;100;100;100;100;100;100;100;100;100;100;100;100;100;100;100;100;100;100;100;100;100;100;100;100;100;100;100;100;100;100;100;100;100;100;100;100;100;100;100;100;100;100'}>, info=<RunInfo: artifact_uri='azureml://germanywestcentral.api.azureml.ms/mlflow/v2.0/subscriptions/261f30e1-c860-4df8-9a71-1883dfa4caa8/resourceGroups/AI/providers/Microsoft.MachineLearningServices/workspaces/aai/experiments/0b8fe75d-4e0b-4ee7-86eb-957d6992bc2a/runs/patient_stone_f7q7hjzq2j/artifacts', end_time=1714241374560, experiment_id='0b8fe75d-4e0b-4ee7-86eb-957d6992bc2a', lifecycle_stage='active', run_id='patient_stone_f7q7hjzq2j', run_name='patient_stone_f7q7hjzq2j', run_uuid='patient_stone_f7q7hjzq2j', start_time=1714237676888, status='FINISHED', user_id='1cd17b56-1535-43fd-a2dd-9124233090d6'>, inputs=<RunInputs: dataset_inputs=[]>>\n"
        }
      ],
      "execution_count": 17,
      "metadata": {
        "jupyter": {
          "source_hidden": false,
          "outputs_hidden": false
        },
        "nteract": {
          "transient": {
            "deleting": false
          }
        },
        "gather": {
          "logged": 1714449264966
        }
      }
    },
    {
      "cell_type": "code",
      "source": [
        "# Print parent run tags. 'automl_best_child_run_id' tag should be there.\n",
        "print(mlflow_parent_run.data.tags)"
      ],
      "outputs": [
        {
          "output_type": "stream",
          "name": "stdout",
          "text": "{'model_explain_run': 'best_run', 'pipeline_id_000': '5dfac790c5c209f98a1da2dc1c7fb76f0397324f;c7af0367625be6ac5c2fecbfc72ed444cb7a2111;799d2168db11fc19b9e1c6c1df62f8981ad39fe9;44b5d2d23120dfcf96a7dc6389a293d17a966b1b;3735210984ea10097d5c91905cf6300ac278cd89;5304e705d6f401cb07f85bcf0ca59ac1f84dfcf5;294650ec23bc3d067a4972de7ceb12f6e97260fa;79ebb3b8c385e3190e3dd4c1fa28b74730528045;589334a57221e0720a95cf217c065115a7b841d1;5a8eb9d9f67b1dd7e9e4062585daa2417ea78989;35b8e2db3c5f6e714072e1be9f0210fe48426975;797e3e972ad02d947be4c64d2b06b775b6df7a49;3fd2e115482e0c7b92aa3297688aefb6c3aa6fb8;1dfdf370ba770047b14bfa59c40920815defcdab;17f87d449bb43aaf3cdae4b7eb6dd6e7fbdaf343;dc68fbd594530b5d52812dd9b3ffa3d6d8ba625e;2032292dd602836ed754a266c771ac100c4c80dc;fedbb4995d6de479c513576119965d71276f03d1;e478544eb8734c07a1943f5bdf4e6605be6943df;1b9ea9b05e1aba0cfbaa30fae26f336a29920979;3ef9040509da05037cd402691a100d4b3dfeb7c4;8a629c3253eba80dbb72f47024d32f0ad25a75b4;13a209bfd4b2554ade8a6975e6538fc9cf736b47;0271727006650d69e50e6b01d53fa8a788575fd3;96ea65ade80f633bbae5c0f0edbec957955d280b;5c913e9a5ee6088213b51594a3dcc49fd78e2127;04c1507aa326b2ef5d41ce4796b7e91f113b0ae9;e7c78ea70fd379a87f18851b2b24b9c4d85cc441;b12fd2a3db3ffae303ec0fe4b303bf11f60ec7a7;d3812cd4cae6f09e5e02cdc7a9531db57c836045;de43453c09484de7f2c6170d9d8aca0547a93456;e5d1ff6b0d9b0068a5e40d955bd8242979f04974;5a7cc8c7cc69ba69ac36eec99283d6944b182016;6a4b6871738411e17491b1e25e7885ae7c0fc1b0;d5ee8bc7299b999244c19ddf1b3c5f6ca57ee7b9;d4e2676180ae8eecd8e10acb09be2380f214823d;c972922810f18ec9da915440ba32079883b67b9d;675f12e594940ad94b57a39816112f5d65170cfc;d9dbe2ef3edc8070df1c311bfecdc55ee9766b58;a345842ca16c8ff8c762e2197ee6412725365d04;e4e8213b3ff4cdd8aa944deb0d0cf0551ff3b64d;3fb06f0d42207beb64b0ff4bb1265e8c6f4be2e0;68ba4031a08c44e04410456d5431ba436672d474;dab6d8da3f6e01f01e878332cbb8ef90ef38f31e;faa291e5334a95ee4e0788e377670f478c05bf73;49acf61c512f657ae50ebb6e14f9b33300aa52d9;bc475f7ad93cef2d842a280c8f34fb7601acafc0;__AutoML_Ensemble__;__AutoML_Stack_Ensemble__', 'score_000': '0.9518000000000001;0.9518000000000001;0.8311;0.8733000000000001;0.9343;0.8733000000000001;0.9419000000000001;0.6693;0.9433999999999999;0.8644000000000001;0.9381;0.8533;0.9346;0.8522000000000001;0.9094;0.9400000000000001;0.8045;0.8455999999999999;0.9489000000000001;0.8833;0.8986000000000001;0.898;0.8374;0.8744;0.9010000000000001;0.8347999999999999;0.9537000000000001;0.9422;0.9502;0.952;0.6656;0.8505;0.9510000000000002;0.9093;0.9052;0.9118;0.9009;0.9517;0.9518000000000001;0.9492;0.9253;0.9517;0.9534;0.9497;0.9269000000000001;0.9517;0.8852;0.9559999999999998;0.9545999999999999', 'predicted_cost_000': '0;0;0.5;0.5;0.5;0.5;0.5;0.5;0.5;0.5;0.5;0.5;0.5;0.5;0.5;0.5;0.5;0.5;0.5;0.5;0.058403038914303367;0.21053053069839922;0.06718005654679984;0.16535742279844565;0.3029791094244999;0.03169226473504082;1.1949083125469973;0.6435121178387548;0.5732258581886658;1.7946375632942377;0.015071356324508985;0.04838903383855058;1.0304813666541432;1.5619245212639505;0.08703911067507257;1.8057324065515605;1.6242294385669522;0.3318346511252577;1.4073227492155835;2.0391350870402167;1.0680440062017686;1.0798051039919765;4.285792319802003;0.36880480933355725;4.150034440154884;0.8937940287982045;0.12082791689819117;0;0', 'fit_time_000': '0.1116402;0.39129320000000006;0.268726;0.07772379999999998;0.03683;0.018735;0.0771712;0.0412992;0.053084200000000005;0.017946200000000002;0.054823;0.034489799999999994;0.0734408;0.3867584;0.138012;0.16534379999999999;0.7927294;1.7314202;0.1309902;0.1290248;0.038887399999999996;0.3699774;0.0727366;0.043572799999999995;0.2337616;0.0138964;1.5768398;2.254078;1.5633976;0.7642922000000001;0.031459;0.0759692;0.36514579999999996;1.0553154;0.05725960000000001;2.4422006;0.6575656000000001;1.2773956000000002;1.627543;2.1421476000000004;1.7788502000000002;0.9758896;0.9630426;0.8321718;2.0502306;1.2875998000000002;0.09716559999999999;23;26', 'training_percent_000': '100;100;100;100;100;100;100;100;100;100;100;100;100;100;100;100;100;100;100;100;100;100;100;100;100;100;100;100;100;100;100;100;100;100;100;100;100;100;100;100;100;100;100;100;100;100;100;100;100', 'iteration_000': '0;1;2;3;4;5;6;7;8;9;10;11;12;13;14;15;16;17;18;19;20;21;22;23;24;25;26;27;28;29;30;31;32;33;34;35;36;37;38;39;40;41;42;43;44;45;46;47;48', 'run_preprocessor_000': 'MaxAbsScaler;MaxAbsScaler;MaxAbsScaler;SparseNormalizer;MaxAbsScaler;MaxAbsScaler;StandardScalerWrapper;StandardScalerWrapper;StandardScalerWrapper;SparseNormalizer;StandardScalerWrapper;MaxAbsScaler;StandardScalerWrapper;SparseNormalizer;StandardScalerWrapper;StandardScalerWrapper;TruncatedSVDWrapper;TruncatedSVDWrapper;StandardScalerWrapper;SparseNormalizer;StandardScalerWrapper;MaxAbsScaler;SparseNormalizer;SparseNormalizer;SparseNormalizer;StandardScalerWrapper;StandardScalerWrapper;StandardScalerWrapper;StandardScalerWrapper;StandardScalerWrapper;SparseNormalizer;MaxAbsScaler;StandardScalerWrapper;StandardScalerWrapper;StandardScalerWrapper;StandardScalerWrapper;SparseNormalizer;StandardScalerWrapper;StandardScalerWrapper;StandardScalerWrapper;StandardScalerWrapper;StandardScalerWrapper;StandardScalerWrapper;StandardScalerWrapper;StandardScalerWrapper;StandardScalerWrapper;StandardScalerWrapper;;', 'run_algorithm_000': 'LightGBM;XGBoostClassifier;ExtremeRandomTrees;XGBoostClassifier;LightGBM;LightGBM;XGBoostClassifier;ExtremeRandomTrees;XGBoostClassifier;LightGBM;XGBoostClassifier;SGD;XGBoostClassifier;RandomForest;RandomForest;XGBoostClassifier;RandomForest;RandomForest;XGBoostClassifier;XGBoostClassifier;RandomForest;GradientBoosting;RandomForest;XGBoostClassifier;XGBoostClassifier;LightGBM;XGBoostClassifier;XGBoostClassifier;XGBoostClassifier;XGBoostClassifier;XGBoostClassifier;RandomForest;XGBoostClassifier;XGBoostClassifier;XGBoostClassifier;XGBoostClassifier;XGBoostClassifier;XGBoostClassifier;XGBoostClassifier;XGBoostClassifier;XGBoostClassifier;XGBoostClassifier;XGBoostClassifier;XGBoostClassifier;XGBoostClassifier;XGBoostClassifier;RandomForest;VotingEnsemble;StackEnsemble', 'dynamic_allowlisting_iterations': '<25>;<30>;<35>;<40>;<45>;', 'automl_best_child_run_id': 'patient_stone_f7q7hjzq2j_47', 'model_explain_best_run_child_id': 'patient_stone_f7q7hjzq2j_47', 'mlflow.rootRunId': 'patient_stone_f7q7hjzq2j', 'mlflow.runName': 'patient_stone_f7q7hjzq2j', 'mlflow.user': 'Ta-Seen Junaid'}\n"
        }
      ],
      "execution_count": 18,
      "metadata": {
        "jupyter": {
          "source_hidden": false,
          "outputs_hidden": false
        },
        "nteract": {
          "transient": {
            "deleting": false
          }
        },
        "gather": {
          "logged": 1714449265090
        }
      }
    },
    {
      "cell_type": "markdown",
      "source": [
        "## Get the AutoMl best child run "
      ],
      "metadata": {
        "nteract": {
          "transient": {
            "deleting": false
          }
        }
      }
    },
    {
      "cell_type": "code",
      "source": [
        "# Get the best model's child run\n",
        "best_child_run_id = mlflow_parent_run.data.tags[\"automl_best_child_run_id\"]\n",
        "print(\"Found best child run id: \", best_child_run_id)\n",
        "\n",
        "\n",
        "best_run = mlflow_client.get_run(best_child_run_id)\n",
        "\n",
        "\n",
        "print(\"Best child run: \")\n",
        "print(best_run)"
      ],
      "outputs": [
        {
          "output_type": "stream",
          "name": "stdout",
          "text": "Found best child run id:  patient_stone_f7q7hjzq2j_47\nBest child run: \n<Run: data=<RunData: metrics={'AUC_macro': 0.9907829151390034,\n 'AUC_micro': 0.9918133000000001,\n 'AUC_weighted': 0.9907829151390034,\n 'accuracy': 0.9559999999999998,\n 'average_precision_score_macro': 0.9888143846430495,\n 'average_precision_score_micro': 0.9918785155939377,\n 'average_precision_score_weighted': 0.9909895133351162,\n 'balanced_accuracy': 0.9489702204208188,\n 'f1_score_macro': 0.9503549395397359,\n 'f1_score_micro': 0.9559999999999998,\n 'f1_score_weighted': 0.9559279562980892,\n 'log_loss': 0.15783529277634573,\n 'matthews_correlation': 0.9008131075598756,\n 'norm_macro_recall': 0.8979404408416375,\n 'precision_score_macro': 0.9518543009366212,\n 'precision_score_micro': 0.9559999999999998,\n 'precision_score_weighted': 0.955947856676608,\n 'recall_score_macro': 0.9489702204208188,\n 'recall_score_micro': 0.9559999999999998,\n 'recall_score_weighted': 0.9559999999999998,\n 'weighted_accuracy': 0.9616123964291521}, params={}, tags={'mlflow.parentRunId': 'patient_stone_f7q7hjzq2j',\n 'mlflow.rootRunId': 'patient_stone_f7q7hjzq2j',\n 'mlflow.runName': 'willing_chicken_w1dpn76m',\n 'mlflow.source.name': 'automl_driver.py',\n 'mlflow.source.type': 'JOB',\n 'mlflow.user': 'Ta-Seen Junaid',\n 'model_explain_run_id': 'patient_stone_f7q7hjzq2j_ModelExplain',\n 'model_explanation': 'True'}>, info=<RunInfo: artifact_uri='azureml://germanywestcentral.api.azureml.ms/mlflow/v2.0/subscriptions/261f30e1-c860-4df8-9a71-1883dfa4caa8/resourceGroups/AI/providers/Microsoft.MachineLearningServices/workspaces/aai/experiments/0b8fe75d-4e0b-4ee7-86eb-957d6992bc2a/runs/patient_stone_f7q7hjzq2j_47/artifacts', end_time=1714241287192, experiment_id='0b8fe75d-4e0b-4ee7-86eb-957d6992bc2a', lifecycle_stage='active', run_id='patient_stone_f7q7hjzq2j_47', run_name='willing_chicken_w1dpn76m', run_uuid='patient_stone_f7q7hjzq2j_47', start_time=1714241223434, status='FINISHED', user_id='1cd17b56-1535-43fd-a2dd-9124233090d6'>, inputs=<RunInputs: dataset_inputs=[]>>\n"
        }
      ],
      "execution_count": 19,
      "metadata": {
        "jupyter": {
          "source_hidden": false,
          "outputs_hidden": false
        },
        "nteract": {
          "transient": {
            "deleting": false
          }
        },
        "gather": {
          "logged": 1714449265393
        }
      }
    },
    {
      "cell_type": "markdown",
      "source": [
        "## Get best model run's validation metrics"
      ],
      "metadata": {
        "nteract": {
          "transient": {
            "deleting": false
          }
        }
      }
    },
    {
      "cell_type": "code",
      "source": [
        "import pandas as pd\n",
        "\n",
        "pd.DataFrame(best_run.data.metrics, index=[0]).T"
      ],
      "outputs": [
        {
          "output_type": "execute_result",
          "execution_count": 20,
          "data": {
            "text/plain": "                                         0\nAUC_macro                         0.990783\nprecision_score_micro             0.956000\nf1_score_macro                    0.950355\nmatthews_correlation              0.900813\naverage_precision_score_macro     0.988814\nf1_score_weighted                 0.955928\nlog_loss                          0.157835\nweighted_accuracy                 0.961612\nnorm_macro_recall                 0.897940\nrecall_score_micro                0.956000\nAUC_weighted                      0.990783\naverage_precision_score_micro     0.991879\nf1_score_micro                    0.956000\nprecision_score_weighted          0.955948\nrecall_score_weighted             0.956000\naverage_precision_score_weighted  0.990990\nbalanced_accuracy                 0.948970\nprecision_score_macro             0.951854\naccuracy                          0.956000\nrecall_score_macro                0.948970\nAUC_micro                         0.991813",
            "text/html": "<div>\n<style scoped>\n    .dataframe tbody tr th:only-of-type {\n        vertical-align: middle;\n    }\n\n    .dataframe tbody tr th {\n        vertical-align: top;\n    }\n\n    .dataframe thead th {\n        text-align: right;\n    }\n</style>\n<table border=\"1\" class=\"dataframe\">\n  <thead>\n    <tr style=\"text-align: right;\">\n      <th></th>\n      <th>0</th>\n    </tr>\n  </thead>\n  <tbody>\n    <tr>\n      <th>AUC_macro</th>\n      <td>0.990783</td>\n    </tr>\n    <tr>\n      <th>precision_score_micro</th>\n      <td>0.956000</td>\n    </tr>\n    <tr>\n      <th>f1_score_macro</th>\n      <td>0.950355</td>\n    </tr>\n    <tr>\n      <th>matthews_correlation</th>\n      <td>0.900813</td>\n    </tr>\n    <tr>\n      <th>average_precision_score_macro</th>\n      <td>0.988814</td>\n    </tr>\n    <tr>\n      <th>f1_score_weighted</th>\n      <td>0.955928</td>\n    </tr>\n    <tr>\n      <th>log_loss</th>\n      <td>0.157835</td>\n    </tr>\n    <tr>\n      <th>weighted_accuracy</th>\n      <td>0.961612</td>\n    </tr>\n    <tr>\n      <th>norm_macro_recall</th>\n      <td>0.897940</td>\n    </tr>\n    <tr>\n      <th>recall_score_micro</th>\n      <td>0.956000</td>\n    </tr>\n    <tr>\n      <th>AUC_weighted</th>\n      <td>0.990783</td>\n    </tr>\n    <tr>\n      <th>average_precision_score_micro</th>\n      <td>0.991879</td>\n    </tr>\n    <tr>\n      <th>f1_score_micro</th>\n      <td>0.956000</td>\n    </tr>\n    <tr>\n      <th>precision_score_weighted</th>\n      <td>0.955948</td>\n    </tr>\n    <tr>\n      <th>recall_score_weighted</th>\n      <td>0.956000</td>\n    </tr>\n    <tr>\n      <th>average_precision_score_weighted</th>\n      <td>0.990990</td>\n    </tr>\n    <tr>\n      <th>balanced_accuracy</th>\n      <td>0.948970</td>\n    </tr>\n    <tr>\n      <th>precision_score_macro</th>\n      <td>0.951854</td>\n    </tr>\n    <tr>\n      <th>accuracy</th>\n      <td>0.956000</td>\n    </tr>\n    <tr>\n      <th>recall_score_macro</th>\n      <td>0.948970</td>\n    </tr>\n    <tr>\n      <th>AUC_micro</th>\n      <td>0.991813</td>\n    </tr>\n  </tbody>\n</table>\n</div>"
          },
          "metadata": {}
        }
      ],
      "execution_count": 20,
      "metadata": {
        "jupyter": {
          "source_hidden": false,
          "outputs_hidden": false
        },
        "nteract": {
          "transient": {
            "deleting": false
          }
        },
        "gather": {
          "logged": 1714449265541
        }
      }
    },
    {
      "cell_type": "markdown",
      "source": [
        "## Download the best model"
      ],
      "metadata": {
        "nteract": {
          "transient": {
            "deleting": false
          }
        }
      }
    },
    {
      "cell_type": "code",
      "source": [
        "import os\n",
        "\n",
        "# Create local folder\n",
        "local_dir = \"./artifact_downloads/\"\n",
        "os.makedirs(local_dir, exist_ok=True)"
      ],
      "outputs": [],
      "execution_count": 21,
      "metadata": {
        "jupyter": {
          "source_hidden": false,
          "outputs_hidden": false
        },
        "nteract": {
          "transient": {
            "deleting": false
          }
        },
        "gather": {
          "logged": 1714449265677
        }
      }
    },
    {
      "cell_type": "code",
      "source": [
        "from mlflow.artifacts import download_artifacts\n",
        "\n",
        "# Download run's artifacts/outputs\n",
        "local_path = download_artifacts(\n",
        "    run_id=best_run.info.run_id, artifact_path=\"outputs\", dst_path=local_dir\n",
        ")\n",
        "print(\"Artifacts downloaded in: {}\".format(local_path))\n",
        "print(\"Artifacts: {}\".format(os.listdir(local_path)))"
      ],
      "outputs": [
        {
          "output_type": "stream",
          "name": "stdout",
          "text": "Artifacts downloaded in: /mnt/batch/tasks/shared/LS_root/mounts/clusters/tj-compute-instance/code/Users/taseen.junaid/Azure-AutoML-Custom-Deployment/artifact_downloads/outputs\nArtifacts: ['conda_env_v_1_0_0.yml', 'engineered_feature_names.json', 'env_dependencies.json', 'featurization_summary.json', 'generated_code', 'internal_cross_validated_models.pkl', 'mlflow-model', 'model.onnx', 'model.pkl', 'model_onnx.json', 'pipeline_graph.json', 'run_id.txt', 'scoring_file_pbi_v_1_0_0.py', 'scoring_file_v_1_0_0.py', 'scoring_file_v_2_0_0.py']\n"
        }
      ],
      "execution_count": 22,
      "metadata": {
        "jupyter": {
          "source_hidden": false,
          "outputs_hidden": false
        },
        "nteract": {
          "transient": {
            "deleting": false
          }
        },
        "gather": {
          "logged": 1714449267625
        }
      }
    },
    {
      "cell_type": "markdown",
      "source": [
        "## View featurization summary"
      ],
      "metadata": {
        "nteract": {
          "transient": {
            "deleting": false
          }
        }
      }
    },
    {
      "cell_type": "code",
      "source": [
        "import json\n",
        "\n",
        "# Render the JSON as a pandas DataFrame\n",
        "with open(os.path.join(local_path, \"featurization_summary.json\"), \"r\") as f:\n",
        "    records = json.load(f)\n",
        "fs = pd.DataFrame.from_records(records)\n",
        "\n",
        "\n",
        "# View a summary of the featurization\n",
        "fs[\n",
        "    [\n",
        "        \"RawFeatureName\",\n",
        "        \"TypeDetected\",\n",
        "        \"Dropped\",\n",
        "        \"EngineeredFeatureCount\",\n",
        "        \"Transformations\",\n",
        "    ]\n",
        "]\n"
      ],
      "outputs": [
        {
          "output_type": "execute_result",
          "execution_count": 23,
          "data": {
            "text/plain": "           RawFeatureName TypeDetected Dropped  EngineeredFeatureCount  \\\n0               PatientID      Numeric      No                       1   \n1           PlasmaGlucose      Numeric      No                       1   \n2  DiastolicBloodPressure      Numeric      No                       1   \n3        TricepsThickness      Numeric      No                       1   \n4            SerumInsulin      Numeric      No                       1   \n5                     BMI      Numeric      No                       1   \n6        DiabetesPedigree      Numeric      No                       1   \n7                     Age      Numeric      No                       1   \n8             Pregnancies  Categorical      No                      15   \n\n                        Transformations  \n0                         [MeanImputer]  \n1                         [MeanImputer]  \n2                         [MeanImputer]  \n3                         [MeanImputer]  \n4                         [MeanImputer]  \n5                         [MeanImputer]  \n6                         [MeanImputer]  \n7                         [MeanImputer]  \n8  [StringCast-CharGramCountVectorizer]  ",
            "text/html": "<div>\n<style scoped>\n    .dataframe tbody tr th:only-of-type {\n        vertical-align: middle;\n    }\n\n    .dataframe tbody tr th {\n        vertical-align: top;\n    }\n\n    .dataframe thead th {\n        text-align: right;\n    }\n</style>\n<table border=\"1\" class=\"dataframe\">\n  <thead>\n    <tr style=\"text-align: right;\">\n      <th></th>\n      <th>RawFeatureName</th>\n      <th>TypeDetected</th>\n      <th>Dropped</th>\n      <th>EngineeredFeatureCount</th>\n      <th>Transformations</th>\n    </tr>\n  </thead>\n  <tbody>\n    <tr>\n      <th>0</th>\n      <td>PatientID</td>\n      <td>Numeric</td>\n      <td>No</td>\n      <td>1</td>\n      <td>[MeanImputer]</td>\n    </tr>\n    <tr>\n      <th>1</th>\n      <td>PlasmaGlucose</td>\n      <td>Numeric</td>\n      <td>No</td>\n      <td>1</td>\n      <td>[MeanImputer]</td>\n    </tr>\n    <tr>\n      <th>2</th>\n      <td>DiastolicBloodPressure</td>\n      <td>Numeric</td>\n      <td>No</td>\n      <td>1</td>\n      <td>[MeanImputer]</td>\n    </tr>\n    <tr>\n      <th>3</th>\n      <td>TricepsThickness</td>\n      <td>Numeric</td>\n      <td>No</td>\n      <td>1</td>\n      <td>[MeanImputer]</td>\n    </tr>\n    <tr>\n      <th>4</th>\n      <td>SerumInsulin</td>\n      <td>Numeric</td>\n      <td>No</td>\n      <td>1</td>\n      <td>[MeanImputer]</td>\n    </tr>\n    <tr>\n      <th>5</th>\n      <td>BMI</td>\n      <td>Numeric</td>\n      <td>No</td>\n      <td>1</td>\n      <td>[MeanImputer]</td>\n    </tr>\n    <tr>\n      <th>6</th>\n      <td>DiabetesPedigree</td>\n      <td>Numeric</td>\n      <td>No</td>\n      <td>1</td>\n      <td>[MeanImputer]</td>\n    </tr>\n    <tr>\n      <th>7</th>\n      <td>Age</td>\n      <td>Numeric</td>\n      <td>No</td>\n      <td>1</td>\n      <td>[MeanImputer]</td>\n    </tr>\n    <tr>\n      <th>8</th>\n      <td>Pregnancies</td>\n      <td>Categorical</td>\n      <td>No</td>\n      <td>15</td>\n      <td>[StringCast-CharGramCountVectorizer]</td>\n    </tr>\n  </tbody>\n</table>\n</div>"
          },
          "metadata": {}
        }
      ],
      "execution_count": 23,
      "metadata": {
        "jupyter": {
          "source_hidden": false,
          "outputs_hidden": false
        },
        "nteract": {
          "transient": {
            "deleting": false
          }
        },
        "gather": {
          "logged": 1714449267770
        }
      }
    },
    {
      "cell_type": "code",
      "source": [],
      "outputs": [],
      "execution_count": null,
      "metadata": {
        "jupyter": {
          "source_hidden": false,
          "outputs_hidden": false
        },
        "nteract": {
          "transient": {
            "deleting": false
          }
        }
      }
    }
  ],
  "metadata": {
    "kernelspec": {
      "name": "python310-sdkv2",
      "language": "python",
      "display_name": "Python 3.10 - SDK v2"
    },
    "language_info": {
      "name": "python",
      "version": "3.10.11",
      "mimetype": "text/x-python",
      "codemirror_mode": {
        "name": "ipython",
        "version": 3
      },
      "pygments_lexer": "ipython3",
      "nbconvert_exporter": "python",
      "file_extension": ".py"
    },
    "microsoft": {
      "ms_spell_check": {
        "ms_spell_check_language": "en"
      },
      "host": {
        "AzureML": {
          "notebookHasBeenCompleted": true
        }
      }
    },
    "kernel_info": {
      "name": "python310-sdkv2"
    },
    "nteract": {
      "version": "nteract-front-end@1.0.0"
    }
  },
  "nbformat": 4,
  "nbformat_minor": 2
}